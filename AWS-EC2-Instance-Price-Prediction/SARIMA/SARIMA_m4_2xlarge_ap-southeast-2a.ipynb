{
 "cells": [
  {
   "cell_type": "markdown",
   "metadata": {},
   "source": [
    "# Seasonal Arima (SARIMA)"
   ]
  },
  {
   "cell_type": "markdown",
   "metadata": {},
   "source": [
    "## Importing Necessary Modules"
   ]
  },
  {
   "cell_type": "code",
   "execution_count": 1,
   "metadata": {},
   "outputs": [],
   "source": [
    "import pandas as pd\n",
    "import matplotlib.pyplot as plt\n",
    "from pmdarima.arima import auto_arima\n",
    "from sklearn.metrics import r2_score, mean_squared_error\n",
    "import numpy as np"
   ]
  },
  {
   "cell_type": "markdown",
   "metadata": {},
   "source": [
    "## Importing and Processing Data"
   ]
  },
  {
   "cell_type": "code",
   "execution_count": 220,
   "metadata": {},
   "outputs": [
    {
     "data": {
      "text/html": [
       "<div>\n",
       "<style scoped>\n",
       "    .dataframe tbody tr th:only-of-type {\n",
       "        vertical-align: middle;\n",
       "    }\n",
       "\n",
       "    .dataframe tbody tr th {\n",
       "        vertical-align: top;\n",
       "    }\n",
       "\n",
       "    .dataframe thead th {\n",
       "        text-align: right;\n",
       "    }\n",
       "</style>\n",
       "<table border=\"1\" class=\"dataframe\">\n",
       "  <thead>\n",
       "    <tr style=\"text-align: right;\">\n",
       "      <th></th>\n",
       "      <th>Time</th>\n",
       "      <th>Price</th>\n",
       "    </tr>\n",
       "  </thead>\n",
       "  <tbody>\n",
       "    <tr>\n",
       "      <th>0</th>\n",
       "      <td>2021-03-27</td>\n",
       "      <td>0.1425</td>\n",
       "    </tr>\n",
       "    <tr>\n",
       "      <th>1</th>\n",
       "      <td>2021-03-28</td>\n",
       "      <td>0.1445</td>\n",
       "    </tr>\n",
       "    <tr>\n",
       "      <th>2</th>\n",
       "      <td>2021-03-29</td>\n",
       "      <td>0.1456</td>\n",
       "    </tr>\n",
       "    <tr>\n",
       "      <th>3</th>\n",
       "      <td>2021-03-30</td>\n",
       "      <td>0.1519</td>\n",
       "    </tr>\n",
       "    <tr>\n",
       "      <th>4</th>\n",
       "      <td>2021-03-31</td>\n",
       "      <td>0.1526</td>\n",
       "    </tr>\n",
       "    <tr>\n",
       "      <th>...</th>\n",
       "      <td>...</td>\n",
       "      <td>...</td>\n",
       "    </tr>\n",
       "    <tr>\n",
       "      <th>85</th>\n",
       "      <td>2021-06-20</td>\n",
       "      <td>0.1683</td>\n",
       "    </tr>\n",
       "    <tr>\n",
       "      <th>86</th>\n",
       "      <td>2021-06-21</td>\n",
       "      <td>0.1688</td>\n",
       "    </tr>\n",
       "    <tr>\n",
       "      <th>87</th>\n",
       "      <td>2021-06-22</td>\n",
       "      <td>0.1693</td>\n",
       "    </tr>\n",
       "    <tr>\n",
       "      <th>88</th>\n",
       "      <td>2021-06-23</td>\n",
       "      <td>0.1689</td>\n",
       "    </tr>\n",
       "    <tr>\n",
       "      <th>89</th>\n",
       "      <td>2021-06-24</td>\n",
       "      <td>0.1683</td>\n",
       "    </tr>\n",
       "  </tbody>\n",
       "</table>\n",
       "<p>90 rows × 2 columns</p>\n",
       "</div>"
      ],
      "text/plain": [
       "          Time   Price\n",
       "0   2021-03-27  0.1425\n",
       "1   2021-03-28  0.1445\n",
       "2   2021-03-29  0.1456\n",
       "3   2021-03-30  0.1519\n",
       "4   2021-03-31  0.1526\n",
       "..         ...     ...\n",
       "85  2021-06-20  0.1683\n",
       "86  2021-06-21  0.1688\n",
       "87  2021-06-22  0.1693\n",
       "88  2021-06-23  0.1689\n",
       "89  2021-06-24  0.1683\n",
       "\n",
       "[90 rows x 2 columns]"
      ]
     },
     "execution_count": 220,
     "metadata": {},
     "output_type": "execute_result"
    }
   ],
   "source": [
    "df = pd.read_csv('old_working.csv')\n",
    "df"
   ]
  },
  {
   "cell_type": "code",
   "execution_count": 225,
   "metadata": {},
   "outputs": [
    {
     "data": {
      "text/html": [
       "<div>\n",
       "<style scoped>\n",
       "    .dataframe tbody tr th:only-of-type {\n",
       "        vertical-align: middle;\n",
       "    }\n",
       "\n",
       "    .dataframe tbody tr th {\n",
       "        vertical-align: top;\n",
       "    }\n",
       "\n",
       "    .dataframe thead th {\n",
       "        text-align: right;\n",
       "    }\n",
       "</style>\n",
       "<table border=\"1\" class=\"dataframe\">\n",
       "  <thead>\n",
       "    <tr style=\"text-align: right;\">\n",
       "      <th></th>\n",
       "      <th>Time</th>\n",
       "      <th>Price</th>\n",
       "    </tr>\n",
       "  </thead>\n",
       "  <tbody>\n",
       "    <tr>\n",
       "      <th>count</th>\n",
       "      <td>90</td>\n",
       "      <td>90.000000</td>\n",
       "    </tr>\n",
       "    <tr>\n",
       "      <th>mean</th>\n",
       "      <td>2021-05-10 12:00:00</td>\n",
       "      <td>0.155623</td>\n",
       "    </tr>\n",
       "    <tr>\n",
       "      <th>min</th>\n",
       "      <td>2021-03-27 00:00:00</td>\n",
       "      <td>0.142500</td>\n",
       "    </tr>\n",
       "    <tr>\n",
       "      <th>25%</th>\n",
       "      <td>2021-04-18 06:00:00</td>\n",
       "      <td>0.151200</td>\n",
       "    </tr>\n",
       "    <tr>\n",
       "      <th>50%</th>\n",
       "      <td>2021-05-10 12:00:00</td>\n",
       "      <td>0.154000</td>\n",
       "    </tr>\n",
       "    <tr>\n",
       "      <th>75%</th>\n",
       "      <td>2021-06-01 18:00:00</td>\n",
       "      <td>0.162325</td>\n",
       "    </tr>\n",
       "    <tr>\n",
       "      <th>max</th>\n",
       "      <td>2021-06-24 00:00:00</td>\n",
       "      <td>0.169300</td>\n",
       "    </tr>\n",
       "    <tr>\n",
       "      <th>std</th>\n",
       "      <td>NaN</td>\n",
       "      <td>0.007094</td>\n",
       "    </tr>\n",
       "  </tbody>\n",
       "</table>\n",
       "</div>"
      ],
      "text/plain": [
       "                      Time      Price\n",
       "count                   90  90.000000\n",
       "mean   2021-05-10 12:00:00   0.155623\n",
       "min    2021-03-27 00:00:00   0.142500\n",
       "25%    2021-04-18 06:00:00   0.151200\n",
       "50%    2021-05-10 12:00:00   0.154000\n",
       "75%    2021-06-01 18:00:00   0.162325\n",
       "max    2021-06-24 00:00:00   0.169300\n",
       "std                    NaN   0.007094"
      ]
     },
     "execution_count": 225,
     "metadata": {},
     "output_type": "execute_result"
    }
   ],
   "source": [
    "df.describe()"
   ]
  },
  {
   "cell_type": "code",
   "execution_count": 226,
   "metadata": {},
   "outputs": [
    {
     "name": "stdout",
     "output_type": "stream",
     "text": [
      "<class 'pandas.core.frame.DataFrame'>\n",
      "RangeIndex: 90 entries, 0 to 89\n",
      "Data columns (total 2 columns):\n",
      " #   Column  Non-Null Count  Dtype         \n",
      "---  ------  --------------  -----         \n",
      " 0   Time    90 non-null     datetime64[ns]\n",
      " 1   Price   90 non-null     float64       \n",
      "dtypes: datetime64[ns](1), float64(1)\n",
      "memory usage: 1.5 KB\n"
     ]
    }
   ],
   "source": [
    "df.info()"
   ]
  },
  {
   "cell_type": "code",
   "execution_count": 227,
   "metadata": {},
   "outputs": [
    {
     "name": "stdout",
     "output_type": "stream",
     "text": [
      "<class 'pandas.core.frame.DataFrame'>\n",
      "RangeIndex: 90 entries, 0 to 89\n",
      "Data columns (total 2 columns):\n",
      " #   Column  Non-Null Count  Dtype         \n",
      "---  ------  --------------  -----         \n",
      " 0   Time    90 non-null     datetime64[ns]\n",
      " 1   Price   90 non-null     float64       \n",
      "dtypes: datetime64[ns](1), float64(1)\n",
      "memory usage: 1.5 KB\n"
     ]
    }
   ],
   "source": [
    "df['Time'] = pd.to_datetime(df.Time)\n",
    "df.info()"
   ]
  },
  {
   "cell_type": "code",
   "execution_count": 228,
   "metadata": {},
   "outputs": [
    {
     "data": {
      "text/html": [
       "<div>\n",
       "<style scoped>\n",
       "    .dataframe tbody tr th:only-of-type {\n",
       "        vertical-align: middle;\n",
       "    }\n",
       "\n",
       "    .dataframe tbody tr th {\n",
       "        vertical-align: top;\n",
       "    }\n",
       "\n",
       "    .dataframe thead th {\n",
       "        text-align: right;\n",
       "    }\n",
       "</style>\n",
       "<table border=\"1\" class=\"dataframe\">\n",
       "  <thead>\n",
       "    <tr style=\"text-align: right;\">\n",
       "      <th></th>\n",
       "      <th>Time</th>\n",
       "      <th>Price</th>\n",
       "    </tr>\n",
       "  </thead>\n",
       "  <tbody>\n",
       "    <tr>\n",
       "      <th>0</th>\n",
       "      <td>2021-03-27</td>\n",
       "      <td>0.1425</td>\n",
       "    </tr>\n",
       "    <tr>\n",
       "      <th>1</th>\n",
       "      <td>2021-03-28</td>\n",
       "      <td>0.1445</td>\n",
       "    </tr>\n",
       "    <tr>\n",
       "      <th>2</th>\n",
       "      <td>2021-03-29</td>\n",
       "      <td>0.1456</td>\n",
       "    </tr>\n",
       "    <tr>\n",
       "      <th>3</th>\n",
       "      <td>2021-03-30</td>\n",
       "      <td>0.1519</td>\n",
       "    </tr>\n",
       "    <tr>\n",
       "      <th>4</th>\n",
       "      <td>2021-03-31</td>\n",
       "      <td>0.1526</td>\n",
       "    </tr>\n",
       "  </tbody>\n",
       "</table>\n",
       "</div>"
      ],
      "text/plain": [
       "        Time   Price\n",
       "0 2021-03-27  0.1425\n",
       "1 2021-03-28  0.1445\n",
       "2 2021-03-29  0.1456\n",
       "3 2021-03-30  0.1519\n",
       "4 2021-03-31  0.1526"
      ]
     },
     "execution_count": 228,
     "metadata": {},
     "output_type": "execute_result"
    }
   ],
   "source": [
    "df.head()"
   ]
  },
  {
   "cell_type": "code",
   "execution_count": 229,
   "metadata": {},
   "outputs": [],
   "source": [
    "df.set_index('Time', inplace=True)"
   ]
  },
  {
   "cell_type": "code",
   "execution_count": 230,
   "metadata": {},
   "outputs": [
    {
     "data": {
      "text/html": [
       "<div>\n",
       "<style scoped>\n",
       "    .dataframe tbody tr th:only-of-type {\n",
       "        vertical-align: middle;\n",
       "    }\n",
       "\n",
       "    .dataframe tbody tr th {\n",
       "        vertical-align: top;\n",
       "    }\n",
       "\n",
       "    .dataframe thead th {\n",
       "        text-align: right;\n",
       "    }\n",
       "</style>\n",
       "<table border=\"1\" class=\"dataframe\">\n",
       "  <thead>\n",
       "    <tr style=\"text-align: right;\">\n",
       "      <th></th>\n",
       "      <th>Price</th>\n",
       "    </tr>\n",
       "    <tr>\n",
       "      <th>Time</th>\n",
       "      <th></th>\n",
       "    </tr>\n",
       "  </thead>\n",
       "  <tbody>\n",
       "    <tr>\n",
       "      <th>2021-03-27</th>\n",
       "      <td>0.1425</td>\n",
       "    </tr>\n",
       "    <tr>\n",
       "      <th>2021-03-28</th>\n",
       "      <td>0.1445</td>\n",
       "    </tr>\n",
       "    <tr>\n",
       "      <th>2021-03-29</th>\n",
       "      <td>0.1456</td>\n",
       "    </tr>\n",
       "    <tr>\n",
       "      <th>2021-03-30</th>\n",
       "      <td>0.1519</td>\n",
       "    </tr>\n",
       "    <tr>\n",
       "      <th>2021-03-31</th>\n",
       "      <td>0.1526</td>\n",
       "    </tr>\n",
       "  </tbody>\n",
       "</table>\n",
       "</div>"
      ],
      "text/plain": [
       "             Price\n",
       "Time              \n",
       "2021-03-27  0.1425\n",
       "2021-03-28  0.1445\n",
       "2021-03-29  0.1456\n",
       "2021-03-30  0.1519\n",
       "2021-03-31  0.1526"
      ]
     },
     "execution_count": 230,
     "metadata": {},
     "output_type": "execute_result"
    }
   ],
   "source": [
    "df.head()"
   ]
  },
  {
   "cell_type": "markdown",
   "metadata": {},
   "source": [
    "## Visualising Data"
   ]
  },
  {
   "cell_type": "code",
   "execution_count": 231,
   "metadata": {},
   "outputs": [
    {
     "data": {
      "image/png": "[encoded data removed]",
      "text/plain": [
       "<Figure size 640x480 with 1 Axes>"
      ]
     },
     "metadata": {},
     "output_type": "display_data"
    }
   ],
   "source": [
    "df.plot()\n",
    "plt.show()"
   ]
  },
  {
   "cell_type": "markdown",
   "metadata": {},
   "source": [
    "## Checking Stationarity"
   ]
  },
  {
   "cell_type": "code",
   "execution_count": 232,
   "metadata": {},
   "outputs": [],
   "source": [
    "from pmdarima.arima import ADFTest"
   ]
  },
  {
   "cell_type": "code",
   "execution_count": 233,
   "metadata": {},
   "outputs": [
    {
     "name": "stdout",
     "output_type": "stream",
     "text": [
      "ADFTest()\n"
     ]
    },
    {
     "data": {
      "text/plain": [
       "(0.34508068314245954, True)"
      ]
     },
     "execution_count": 233,
     "metadata": {},
     "output_type": "execute_result"
    }
   ],
   "source": [
    "adf_test = ADFTest(alpha=0.05)\n",
    "print(adf_test)\n",
    "adf_test.should_diff(df)"
   ]
  },
  {
   "cell_type": "markdown",
   "metadata": {},
   "source": [
    "## Train and Test Split"
   ]
  },
  {
   "cell_type": "code",
   "execution_count": 234,
   "metadata": {},
   "outputs": [],
   "source": [
    "n = int(len(df) * 0.8)"
   ]
  },
  {
   "cell_type": "code",
   "execution_count": 235,
   "metadata": {
    "scrolled": false
   },
   "outputs": [
    {
     "name": "stdout",
     "output_type": "stream",
     "text": [
      "For Training\n",
      "Time\n",
      "2021-03-27    0.1425\n",
      "2021-03-28    0.1445\n",
      "2021-03-29    0.1456\n",
      "2021-03-30    0.1519\n",
      "2021-03-31    0.1526\n",
      "               ...  \n",
      "2021-06-02    0.1549\n",
      "2021-06-03    0.1554\n",
      "2021-06-04    0.1545\n",
      "2021-06-05    0.1546\n",
      "2021-06-06    0.1617\n",
      "Name: Price, Length: 72, dtype: float64\n",
      "\n",
      "For Testing\n",
      "Time\n",
      "2021-06-07    0.1627\n",
      "2021-06-08    0.1607\n",
      "2021-06-09    0.1621\n",
      "2021-06-10    0.1624\n",
      "2021-06-11    0.1640\n",
      "2021-06-12    0.1636\n",
      "2021-06-13    0.1646\n",
      "2021-06-14    0.1648\n",
      "2021-06-15    0.1661\n",
      "2021-06-16    0.1658\n",
      "2021-06-17    0.1667\n",
      "2021-06-18    0.1672\n",
      "2021-06-19    0.1675\n",
      "2021-06-20    0.1683\n",
      "2021-06-21    0.1688\n",
      "2021-06-22    0.1693\n",
      "2021-06-23    0.1689\n",
      "2021-06-24    0.1683\n",
      "Name: Price, dtype: float64\n"
     ]
    }
   ],
   "source": [
    "train = df.Price[:n]\n",
    "test = df.Price[n:]\n",
    "print(f\"For Training\\n{train}\\n\")\n",
    "print(f\"For Testing\\n{test}\")"
   ]
  },
  {
   "cell_type": "code",
   "execution_count": 236,
   "metadata": {},
   "outputs": [
    {
     "data": {
      "image/png": "[encoded data removed]",
      "text/plain": [
       "<Figure size 640x480 with 1 Axes>"
      ]
     },
     "metadata": {},
     "output_type": "display_data"
    }
   ],
   "source": [
    "plt.plot(train)\n",
    "plt.plot(test)\n",
    "plt.show()"
   ]
  },
  {
   "cell_type": "markdown",
   "metadata": {},
   "source": [
    "## Arima Model"
   ]
  },
  {
   "cell_type": "code",
   "execution_count": 237,
   "metadata": {},
   "outputs": [
    {
     "name": "stdout",
     "output_type": "stream",
     "text": [
      "Performing stepwise search to minimize aic\n",
      " ARIMA(3,1,3)(0,1,0)[4]             : AIC=-598.647, Time=0.11 sec\n",
      " ARIMA(0,1,0)(0,1,0)[4]             : AIC=-590.716, Time=0.01 sec\n",
      " ARIMA(1,1,0)(1,1,0)[4]             : AIC=-599.302, Time=0.02 sec\n",
      " ARIMA(0,1,1)(0,1,1)[4]             : AIC=-610.500, Time=0.05 sec\n",
      " ARIMA(0,1,1)(0,1,0)[4]             : AIC=-588.520, Time=0.05 sec\n",
      " ARIMA(0,1,1)(1,1,1)[4]             : AIC=-604.304, Time=0.08 sec\n",
      " ARIMA(0,1,1)(0,1,2)[4]             : AIC=inf, Time=0.10 sec\n",
      " ARIMA(0,1,1)(1,1,0)[4]             : AIC=-599.999, Time=0.11 sec\n",
      " ARIMA(0,1,1)(1,1,2)[4]             : AIC=-609.123, Time=0.30 sec\n",
      " ARIMA(0,1,0)(0,1,1)[4]             : AIC=-613.489, Time=0.30 sec\n",
      " ARIMA(0,1,0)(1,1,1)[4]             : AIC=-607.568, Time=0.04 sec\n",
      " ARIMA(0,1,0)(0,1,2)[4]             : AIC=inf, Time=0.13 sec\n",
      " ARIMA(0,1,0)(1,1,0)[4]             : AIC=-601.436, Time=0.02 sec\n",
      " ARIMA(0,1,0)(1,1,2)[4]             : AIC=-612.213, Time=0.14 sec\n",
      " ARIMA(1,1,0)(0,1,1)[4]             : AIC=-611.348, Time=0.14 sec\n",
      " ARIMA(1,1,1)(0,1,1)[4]             : AIC=-609.489, Time=0.08 sec\n",
      " ARIMA(0,1,0)(0,1,1)[4] intercept   : AIC=-611.493, Time=0.08 sec\n",
      "\n",
      "Best model:  ARIMA(0,1,0)(0,1,1)[4]          \n",
      "Total fit time: 1.774 seconds\n"
     ]
    }
   ],
   "source": [
    "arima_model=auto_arima (train, start_p=3, d=1, start_q=3, max_p=3,\n",
    "                        max_d=1, max_q=3, start_P=0, D=1, start_Q=0,\n",
    "                        max_P=5, max_D=5, max_Q=5, m=4, seasonal=True,\n",
    "                        error_action='warn', trace = True, \n",
    "                        supress_warnings=True, stepwise = True, \n",
    "                        random_state=20,n_fits = 50 )"
   ]
  },
  {
   "cell_type": "code",
   "execution_count": 239,
   "metadata": {},
   "outputs": [
    {
     "data": {
      "text/html": [
       "<table class=\"simpletable\">\n",
       "<caption>SARIMAX Results</caption>\n",
       "<tr>\n",
       "  <th>Dep. Variable:</th>                  <td>y</td>                <th>  No. Observations:  </th>    <td>72</td>   \n",
       "</tr>\n",
       "<tr>\n",
       "  <th>Model:</th>           <td>SARIMAX(0, 1, 0)x(0, 1, [1], 4)</td> <th>  Log Likelihood     </th>  <td>308.745</td>\n",
       "</tr>\n",
       "<tr>\n",
       "  <th>Date:</th>                   <td>Wed, 29 Nov 2023</td>         <th>  AIC                </th> <td>-613.489</td>\n",
       "</tr>\n",
       "<tr>\n",
       "  <th>Time:</th>                       <td>18:08:17</td>             <th>  BIC                </th> <td>-609.080</td>\n",
       "</tr>\n",
       "<tr>\n",
       "  <th>Sample:</th>                    <td>03-27-2021</td>            <th>  HQIC               </th> <td>-611.744</td>\n",
       "</tr>\n",
       "<tr>\n",
       "  <th></th>                          <td>- 06-06-2021</td>           <th>                     </th>     <td> </td>   \n",
       "</tr>\n",
       "<tr>\n",
       "  <th>Covariance Type:</th>               <td>opg</td>               <th>                     </th>     <td> </td>   \n",
       "</tr>\n",
       "</table>\n",
       "<table class=\"simpletable\">\n",
       "<tr>\n",
       "     <td></td>        <th>coef</th>     <th>std err</th>      <th>z</th>      <th>P>|z|</th>  <th>[0.025</th>    <th>0.975]</th>  \n",
       "</tr>\n",
       "<tr>\n",
       "  <th>ma.S.L4</th> <td>   -0.7042</td> <td>    0.076</td> <td>   -9.299</td> <td> 0.000</td> <td>   -0.853</td> <td>   -0.556</td>\n",
       "</tr>\n",
       "<tr>\n",
       "  <th>sigma2</th>  <td> 5.566e-06</td> <td>  5.9e-07</td> <td>    9.438</td> <td> 0.000</td> <td> 4.41e-06</td> <td> 6.72e-06</td>\n",
       "</tr>\n",
       "</table>\n",
       "<table class=\"simpletable\">\n",
       "<tr>\n",
       "  <th>Ljung-Box (L1) (Q):</th>     <td>0.43</td> <th>  Jarque-Bera (JB):  </th> <td>42.39</td>\n",
       "</tr>\n",
       "<tr>\n",
       "  <th>Prob(Q):</th>                <td>0.51</td> <th>  Prob(JB):          </th> <td>0.00</td> \n",
       "</tr>\n",
       "<tr>\n",
       "  <th>Heteroskedasticity (H):</th> <td>0.88</td> <th>  Skew:              </th> <td>0.64</td> \n",
       "</tr>\n",
       "<tr>\n",
       "  <th>Prob(H) (two-sided):</th>    <td>0.76</td> <th>  Kurtosis:          </th> <td>6.68</td> \n",
       "</tr>\n",
       "</table><br/><br/>Warnings:<br/>[1] Covariance matrix calculated using the outer product of gradients (complex-step)."
      ],
      "text/latex": [
       "\\begin{center}\n",
       "\\begin{tabular}{lclc}\n",
       "\\toprule\n",
       "\\textbf{Dep. Variable:}          &                y                & \\textbf{  No. Observations:  } &     72      \\\\\n",
       "\\textbf{Model:}                  & SARIMAX(0, 1, 0)x(0, 1, [1], 4) & \\textbf{  Log Likelihood     } &  308.745    \\\\\n",
       "\\textbf{Date:}                   &         Wed, 29 Nov 2023        & \\textbf{  AIC                } &  -613.489   \\\\\n",
       "\\textbf{Time:}                   &             18:08:17            & \\textbf{  BIC                } &  -609.080   \\\\\n",
       "\\textbf{Sample:}                 &            03-27-2021           & \\textbf{  HQIC               } &  -611.744   \\\\\n",
       "\\textbf{}                        &           - 06-06-2021          & \\textbf{                     } &             \\\\\n",
       "\\textbf{Covariance Type:}        &               opg               & \\textbf{                     } &             \\\\\n",
       "\\bottomrule\n",
       "\\end{tabular}\n",
       "\\begin{tabular}{lcccccc}\n",
       "                 & \\textbf{coef} & \\textbf{std err} & \\textbf{z} & \\textbf{P$> |$z$|$} & \\textbf{[0.025} & \\textbf{0.975]}  \\\\\n",
       "\\midrule\n",
       "\\textbf{ma.S.L4} &      -0.7042  &        0.076     &    -9.299  &         0.000        &       -0.853    &       -0.556     \\\\\n",
       "\\textbf{sigma2}  &    5.566e-06  &      5.9e-07     &     9.438  &         0.000        &     4.41e-06    &     6.72e-06     \\\\\n",
       "\\bottomrule\n",
       "\\end{tabular}\n",
       "\\begin{tabular}{lclc}\n",
       "\\textbf{Ljung-Box (L1) (Q):}     & 0.43 & \\textbf{  Jarque-Bera (JB):  } & 42.39  \\\\\n",
       "\\textbf{Prob(Q):}                & 0.51 & \\textbf{  Prob(JB):          } &  0.00  \\\\\n",
       "\\textbf{Heteroskedasticity (H):} & 0.88 & \\textbf{  Skew:              } &  0.64  \\\\\n",
       "\\textbf{Prob(H) (two-sided):}    & 0.76 & \\textbf{  Kurtosis:          } &  6.68  \\\\\n",
       "\\bottomrule\n",
       "\\end{tabular}\n",
       "%\\caption{SARIMAX Results}\n",
       "\\end{center}\n",
       "\n",
       "Warnings: \\newline\n",
       " [1] Covariance matrix calculated using the outer product of gradients (complex-step)."
      ],
      "text/plain": [
       "<class 'statsmodels.iolib.summary.Summary'>\n",
       "\"\"\"\n",
       "                                      SARIMAX Results                                      \n",
       "===========================================================================================\n",
       "Dep. Variable:                                   y   No. Observations:                   72\n",
       "Model:             SARIMAX(0, 1, 0)x(0, 1, [1], 4)   Log Likelihood                 308.745\n",
       "Date:                             Wed, 29 Nov 2023   AIC                           -613.489\n",
       "Time:                                     18:08:17   BIC                           -609.080\n",
       "Sample:                                 03-27-2021   HQIC                          -611.744\n",
       "                                      - 06-06-2021                                         \n",
       "Covariance Type:                               opg                                         \n",
       "==============================================================================\n",
       "                 coef    std err          z      P>|z|      [0.025      0.975]\n",
       "------------------------------------------------------------------------------\n",
       "ma.S.L4       -0.7042      0.076     -9.299      0.000      -0.853      -0.556\n",
       "sigma2      5.566e-06    5.9e-07      9.438      0.000    4.41e-06    6.72e-06\n",
       "===================================================================================\n",
       "Ljung-Box (L1) (Q):                   0.43   Jarque-Bera (JB):                42.39\n",
       "Prob(Q):                              0.51   Prob(JB):                         0.00\n",
       "Heteroskedasticity (H):               0.88   Skew:                             0.64\n",
       "Prob(H) (two-sided):                  0.76   Kurtosis:                         6.68\n",
       "===================================================================================\n",
       "\n",
       "Warnings:\n",
       "[1] Covariance matrix calculated using the outer product of gradients (complex-step).\n",
       "\"\"\""
      ]
     },
     "execution_count": 239,
     "metadata": {},
     "output_type": "execute_result"
    }
   ],
   "source": [
    "arima_model.summary()"
   ]
  },
  {
   "cell_type": "markdown",
   "metadata": {},
   "source": [
    "## Forecasting"
   ]
  },
  {
   "cell_type": "code",
   "execution_count": 240,
   "metadata": {},
   "outputs": [
    {
     "data": {
      "text/html": [
       "<div>\n",
       "<style scoped>\n",
       "    .dataframe tbody tr th:only-of-type {\n",
       "        vertical-align: middle;\n",
       "    }\n",
       "\n",
       "    .dataframe tbody tr th {\n",
       "        vertical-align: top;\n",
       "    }\n",
       "\n",
       "    .dataframe thead th {\n",
       "        text-align: right;\n",
       "    }\n",
       "</style>\n",
       "<table border=\"1\" class=\"dataframe\">\n",
       "  <thead>\n",
       "    <tr style=\"text-align: right;\">\n",
       "      <th></th>\n",
       "      <th>0</th>\n",
       "    </tr>\n",
       "    <tr>\n",
       "      <th>Time</th>\n",
       "      <th></th>\n",
       "    </tr>\n",
       "  </thead>\n",
       "  <tbody>\n",
       "    <tr>\n",
       "      <th>2021-06-07</th>\n",
       "      <td>0.161530</td>\n",
       "    </tr>\n",
       "    <tr>\n",
       "      <th>2021-06-08</th>\n",
       "      <td>0.161412</td>\n",
       "    </tr>\n",
       "    <tr>\n",
       "      <th>2021-06-09</th>\n",
       "      <td>0.161824</td>\n",
       "    </tr>\n",
       "    <tr>\n",
       "      <th>2021-06-10</th>\n",
       "      <td>0.163814</td>\n",
       "    </tr>\n",
       "    <tr>\n",
       "      <th>2021-06-11</th>\n",
       "      <td>0.163643</td>\n",
       "    </tr>\n",
       "    <tr>\n",
       "      <th>2021-06-12</th>\n",
       "      <td>0.163525</td>\n",
       "    </tr>\n",
       "    <tr>\n",
       "      <th>2021-06-13</th>\n",
       "      <td>0.163937</td>\n",
       "    </tr>\n",
       "    <tr>\n",
       "      <th>2021-06-14</th>\n",
       "      <td>0.165927</td>\n",
       "    </tr>\n",
       "    <tr>\n",
       "      <th>2021-06-15</th>\n",
       "      <td>0.165757</td>\n",
       "    </tr>\n",
       "    <tr>\n",
       "      <th>2021-06-16</th>\n",
       "      <td>0.165639</td>\n",
       "    </tr>\n",
       "    <tr>\n",
       "      <th>2021-06-17</th>\n",
       "      <td>0.166051</td>\n",
       "    </tr>\n",
       "    <tr>\n",
       "      <th>2021-06-18</th>\n",
       "      <td>0.168041</td>\n",
       "    </tr>\n",
       "    <tr>\n",
       "      <th>2021-06-19</th>\n",
       "      <td>0.167870</td>\n",
       "    </tr>\n",
       "    <tr>\n",
       "      <th>2021-06-20</th>\n",
       "      <td>0.167752</td>\n",
       "    </tr>\n",
       "    <tr>\n",
       "      <th>2021-06-21</th>\n",
       "      <td>0.168164</td>\n",
       "    </tr>\n",
       "    <tr>\n",
       "      <th>2021-06-22</th>\n",
       "      <td>0.170154</td>\n",
       "    </tr>\n",
       "    <tr>\n",
       "      <th>2021-06-23</th>\n",
       "      <td>0.169984</td>\n",
       "    </tr>\n",
       "    <tr>\n",
       "      <th>2021-06-24</th>\n",
       "      <td>0.169866</td>\n",
       "    </tr>\n",
       "  </tbody>\n",
       "</table>\n",
       "</div>"
      ],
      "text/plain": [
       "                   0\n",
       "Time                \n",
       "2021-06-07  0.161530\n",
       "2021-06-08  0.161412\n",
       "2021-06-09  0.161824\n",
       "2021-06-10  0.163814\n",
       "2021-06-11  0.163643\n",
       "2021-06-12  0.163525\n",
       "2021-06-13  0.163937\n",
       "2021-06-14  0.165927\n",
       "2021-06-15  0.165757\n",
       "2021-06-16  0.165639\n",
       "2021-06-17  0.166051\n",
       "2021-06-18  0.168041\n",
       "2021-06-19  0.167870\n",
       "2021-06-20  0.167752\n",
       "2021-06-21  0.168164\n",
       "2021-06-22  0.170154\n",
       "2021-06-23  0.169984\n",
       "2021-06-24  0.169866"
      ]
     },
     "execution_count": 240,
     "metadata": {},
     "output_type": "execute_result"
    }
   ],
   "source": [
    "prediction = pd.DataFrame(arima_model.predict(n_periods=18), \n",
    "                          index=test.index)\n",
    "prediction_columns = ['predicted_price']\n",
    "prediction"
   ]
  },
  {
   "cell_type": "code",
   "execution_count": 249,
   "metadata": {},
   "outputs": [
    {
     "data": {
      "image/png": "[encoded data removed]",
      "text/plain": [
       "<Figure size 800x500 with 1 Axes>"
      ]
     },
     "metadata": {},
     "output_type": "display_data"
    }
   ],
   "source": [
    "plt.figure(figsize=(8, 5))\n",
    "plt.plot(train, label=\"Training\")\n",
    "plt.plot(test, label='Test')\n",
    "plt.plot(prediction, label=\"Predicted\")\n",
    "plt.legend(loc=\"upper left\")\n",
    "plt.savefig(\"m4_2xlarge_ap_se_test_vs_predicted.png\")\n",
    "plt.show()"
   ]
  },
  {
   "cell_type": "code",
   "execution_count": 250,
   "metadata": {},
   "outputs": [
    {
     "data": {
      "image/png": "[encoded data removed]",
      "text/plain": [
       "<Figure size 1600x800 with 1 Axes>"
      ]
     },
     "metadata": {},
     "output_type": "display_data"
    }
   ],
   "source": [
    "step = 18\n",
    "\n",
    "# fc = pd.Series(fc, index=test[:step].index)\n",
    "# print(fc)\n",
    "plt.figure(figsize=(16, 8))\n",
    "\n",
    "plt.plot(test[:step], label=\"Actual\")\n",
    "\n",
    "plt.plot(prediction, label=\"Forecast\")\n",
    "\n",
    "plt.title(\"Forecast vs Actual\")\n",
    "plt.legend(loc=\"upper left\")\n",
    "plt.savefig(\"m4_2xlarge_ap_se_test_vs_predicted_zoomed.png\")\n",
    "plt.show()"
   ]
  },
  {
   "cell_type": "markdown",
   "metadata": {},
   "source": [
    "## R2 Score"
   ]
  },
  {
   "cell_type": "code",
   "execution_count": 243,
   "metadata": {},
   "outputs": [
    {
     "data": {
      "text/html": [
       "<div>\n",
       "<style scoped>\n",
       "    .dataframe tbody tr th:only-of-type {\n",
       "        vertical-align: middle;\n",
       "    }\n",
       "\n",
       "    .dataframe tbody tr th {\n",
       "        vertical-align: top;\n",
       "    }\n",
       "\n",
       "    .dataframe thead th {\n",
       "        text-align: right;\n",
       "    }\n",
       "</style>\n",
       "<table border=\"1\" class=\"dataframe\">\n",
       "  <thead>\n",
       "    <tr style=\"text-align: right;\">\n",
       "      <th></th>\n",
       "      <th>Price</th>\n",
       "    </tr>\n",
       "    <tr>\n",
       "      <th>Time</th>\n",
       "      <th></th>\n",
       "    </tr>\n",
       "  </thead>\n",
       "  <tbody>\n",
       "    <tr>\n",
       "      <th>2021-06-07</th>\n",
       "      <td>0.1627</td>\n",
       "    </tr>\n",
       "    <tr>\n",
       "      <th>2021-06-08</th>\n",
       "      <td>0.1607</td>\n",
       "    </tr>\n",
       "    <tr>\n",
       "      <th>2021-06-09</th>\n",
       "      <td>0.1621</td>\n",
       "    </tr>\n",
       "    <tr>\n",
       "      <th>2021-06-10</th>\n",
       "      <td>0.1624</td>\n",
       "    </tr>\n",
       "    <tr>\n",
       "      <th>2021-06-11</th>\n",
       "      <td>0.1640</td>\n",
       "    </tr>\n",
       "    <tr>\n",
       "      <th>2021-06-12</th>\n",
       "      <td>0.1636</td>\n",
       "    </tr>\n",
       "    <tr>\n",
       "      <th>2021-06-13</th>\n",
       "      <td>0.1646</td>\n",
       "    </tr>\n",
       "    <tr>\n",
       "      <th>2021-06-14</th>\n",
       "      <td>0.1648</td>\n",
       "    </tr>\n",
       "    <tr>\n",
       "      <th>2021-06-15</th>\n",
       "      <td>0.1661</td>\n",
       "    </tr>\n",
       "    <tr>\n",
       "      <th>2021-06-16</th>\n",
       "      <td>0.1658</td>\n",
       "    </tr>\n",
       "    <tr>\n",
       "      <th>2021-06-17</th>\n",
       "      <td>0.1667</td>\n",
       "    </tr>\n",
       "    <tr>\n",
       "      <th>2021-06-18</th>\n",
       "      <td>0.1672</td>\n",
       "    </tr>\n",
       "    <tr>\n",
       "      <th>2021-06-19</th>\n",
       "      <td>0.1675</td>\n",
       "    </tr>\n",
       "    <tr>\n",
       "      <th>2021-06-20</th>\n",
       "      <td>0.1683</td>\n",
       "    </tr>\n",
       "    <tr>\n",
       "      <th>2021-06-21</th>\n",
       "      <td>0.1688</td>\n",
       "    </tr>\n",
       "    <tr>\n",
       "      <th>2021-06-22</th>\n",
       "      <td>0.1693</td>\n",
       "    </tr>\n",
       "    <tr>\n",
       "      <th>2021-06-23</th>\n",
       "      <td>0.1689</td>\n",
       "    </tr>\n",
       "    <tr>\n",
       "      <th>2021-06-24</th>\n",
       "      <td>0.1683</td>\n",
       "    </tr>\n",
       "  </tbody>\n",
       "</table>\n",
       "</div>"
      ],
      "text/plain": [
       "             Price\n",
       "Time              \n",
       "2021-06-07  0.1627\n",
       "2021-06-08  0.1607\n",
       "2021-06-09  0.1621\n",
       "2021-06-10  0.1624\n",
       "2021-06-11  0.1640\n",
       "2021-06-12  0.1636\n",
       "2021-06-13  0.1646\n",
       "2021-06-14  0.1648\n",
       "2021-06-15  0.1661\n",
       "2021-06-16  0.1658\n",
       "2021-06-17  0.1667\n",
       "2021-06-18  0.1672\n",
       "2021-06-19  0.1675\n",
       "2021-06-20  0.1683\n",
       "2021-06-21  0.1688\n",
       "2021-06-22  0.1693\n",
       "2021-06-23  0.1689\n",
       "2021-06-24  0.1683"
      ]
     },
     "execution_count": 243,
     "metadata": {},
     "output_type": "execute_result"
    }
   ],
   "source": [
    "test_df = pd.DataFrame(test)\n",
    "test_df\n",
    "# test['predicted_prices'] = prediction"
   ]
  },
  {
   "cell_type": "code",
   "execution_count": 244,
   "metadata": {
    "scrolled": false
   },
   "outputs": [
    {
     "data": {
      "text/html": [
       "<div>\n",
       "<style scoped>\n",
       "    .dataframe tbody tr th:only-of-type {\n",
       "        vertical-align: middle;\n",
       "    }\n",
       "\n",
       "    .dataframe tbody tr th {\n",
       "        vertical-align: top;\n",
       "    }\n",
       "\n",
       "    .dataframe thead th {\n",
       "        text-align: right;\n",
       "    }\n",
       "</style>\n",
       "<table border=\"1\" class=\"dataframe\">\n",
       "  <thead>\n",
       "    <tr style=\"text-align: right;\">\n",
       "      <th></th>\n",
       "      <th>Price</th>\n",
       "      <th>predicted_prices</th>\n",
       "    </tr>\n",
       "    <tr>\n",
       "      <th>Time</th>\n",
       "      <th></th>\n",
       "      <th></th>\n",
       "    </tr>\n",
       "  </thead>\n",
       "  <tbody>\n",
       "    <tr>\n",
       "      <th>2021-06-07</th>\n",
       "      <td>0.1627</td>\n",
       "      <td>0.161530</td>\n",
       "    </tr>\n",
       "    <tr>\n",
       "      <th>2021-06-08</th>\n",
       "      <td>0.1607</td>\n",
       "      <td>0.161412</td>\n",
       "    </tr>\n",
       "    <tr>\n",
       "      <th>2021-06-09</th>\n",
       "      <td>0.1621</td>\n",
       "      <td>0.161824</td>\n",
       "    </tr>\n",
       "    <tr>\n",
       "      <th>2021-06-10</th>\n",
       "      <td>0.1624</td>\n",
       "      <td>0.163814</td>\n",
       "    </tr>\n",
       "    <tr>\n",
       "      <th>2021-06-11</th>\n",
       "      <td>0.1640</td>\n",
       "      <td>0.163643</td>\n",
       "    </tr>\n",
       "    <tr>\n",
       "      <th>2021-06-12</th>\n",
       "      <td>0.1636</td>\n",
       "      <td>0.163525</td>\n",
       "    </tr>\n",
       "    <tr>\n",
       "      <th>2021-06-13</th>\n",
       "      <td>0.1646</td>\n",
       "      <td>0.163937</td>\n",
       "    </tr>\n",
       "    <tr>\n",
       "      <th>2021-06-14</th>\n",
       "      <td>0.1648</td>\n",
       "      <td>0.165927</td>\n",
       "    </tr>\n",
       "    <tr>\n",
       "      <th>2021-06-15</th>\n",
       "      <td>0.1661</td>\n",
       "      <td>0.165757</td>\n",
       "    </tr>\n",
       "    <tr>\n",
       "      <th>2021-06-16</th>\n",
       "      <td>0.1658</td>\n",
       "      <td>0.165639</td>\n",
       "    </tr>\n",
       "    <tr>\n",
       "      <th>2021-06-17</th>\n",
       "      <td>0.1667</td>\n",
       "      <td>0.166051</td>\n",
       "    </tr>\n",
       "    <tr>\n",
       "      <th>2021-06-18</th>\n",
       "      <td>0.1672</td>\n",
       "      <td>0.168041</td>\n",
       "    </tr>\n",
       "    <tr>\n",
       "      <th>2021-06-19</th>\n",
       "      <td>0.1675</td>\n",
       "      <td>0.167870</td>\n",
       "    </tr>\n",
       "    <tr>\n",
       "      <th>2021-06-20</th>\n",
       "      <td>0.1683</td>\n",
       "      <td>0.167752</td>\n",
       "    </tr>\n",
       "    <tr>\n",
       "      <th>2021-06-21</th>\n",
       "      <td>0.1688</td>\n",
       "      <td>0.168164</td>\n",
       "    </tr>\n",
       "    <tr>\n",
       "      <th>2021-06-22</th>\n",
       "      <td>0.1693</td>\n",
       "      <td>0.170154</td>\n",
       "    </tr>\n",
       "    <tr>\n",
       "      <th>2021-06-23</th>\n",
       "      <td>0.1689</td>\n",
       "      <td>0.169984</td>\n",
       "    </tr>\n",
       "    <tr>\n",
       "      <th>2021-06-24</th>\n",
       "      <td>0.1683</td>\n",
       "      <td>0.169866</td>\n",
       "    </tr>\n",
       "  </tbody>\n",
       "</table>\n",
       "</div>"
      ],
      "text/plain": [
       "             Price  predicted_prices\n",
       "Time                                \n",
       "2021-06-07  0.1627          0.161530\n",
       "2021-06-08  0.1607          0.161412\n",
       "2021-06-09  0.1621          0.161824\n",
       "2021-06-10  0.1624          0.163814\n",
       "2021-06-11  0.1640          0.163643\n",
       "2021-06-12  0.1636          0.163525\n",
       "2021-06-13  0.1646          0.163937\n",
       "2021-06-14  0.1648          0.165927\n",
       "2021-06-15  0.1661          0.165757\n",
       "2021-06-16  0.1658          0.165639\n",
       "2021-06-17  0.1667          0.166051\n",
       "2021-06-18  0.1672          0.168041\n",
       "2021-06-19  0.1675          0.167870\n",
       "2021-06-20  0.1683          0.167752\n",
       "2021-06-21  0.1688          0.168164\n",
       "2021-06-22  0.1693          0.170154\n",
       "2021-06-23  0.1689          0.169984\n",
       "2021-06-24  0.1683          0.169866"
      ]
     },
     "execution_count": 244,
     "metadata": {},
     "output_type": "execute_result"
    }
   ],
   "source": [
    "test_df['predicted_prices'] = prediction\n",
    "test_df = test_df.dropna()\n",
    "test_df"
   ]
  },
  {
   "cell_type": "code",
   "execution_count": 245,
   "metadata": {},
   "outputs": [
    {
     "data": {
      "text/plain": [
       "0.8979250634046473"
      ]
     },
     "execution_count": 245,
     "metadata": {},
     "output_type": "execute_result"
    }
   ],
   "source": [
    "r2_score(test_df['Price'], test_df['predicted_prices'])"
   ]
  },
  {
   "cell_type": "code",
   "execution_count": 246,
   "metadata": {},
   "outputs": [
    {
     "data": {
      "text/plain": [
       "0.0008253516102654094"
      ]
     },
     "execution_count": 246,
     "metadata": {},
     "output_type": "execute_result"
    }
   ],
   "source": [
    "np.sqrt(mean_squared_error(test_df['Price'], test_df['predicted_prices']))"
   ]
  },
  {
   "cell_type": "code",
   "execution_count": 247,
   "metadata": {},
   "outputs": [
    {
     "data": {
      "text/plain": [
       "count    18.000000\n",
       "mean      0.165827\n",
       "std       0.002894\n",
       "min       0.161412\n",
       "25%       0.163686\n",
       "50%       0.165842\n",
       "75%       0.167998\n",
       "max       0.170154\n",
       "Name: predicted_prices, dtype: float64"
      ]
     },
     "execution_count": 247,
     "metadata": {},
     "output_type": "execute_result"
    }
   ],
   "source": [
    "test_df.predicted_prices.describe()"
   ]
  },
  {
   "cell_type": "code",
   "execution_count": 248,
   "metadata": {
    "scrolled": true
   },
   "outputs": [
    {
     "data": {
      "image/png": "[encoded data removed]",
      "text/plain": [
       "<Figure size 640x480 with 1 Axes>"
      ]
     },
     "metadata": {},
     "output_type": "display_data"
    }
   ],
   "source": [
    "test_df.boxplot(column=['predicted_prices'])\n",
    "plt.show()"
   ]
  },
  {
   "cell_type": "code",
   "execution_count": 29,
   "metadata": {},
   "outputs": [],
   "source": [
    "test_df['predicted_prices'].describe().to_csv(\"Prediction_Description_SARIMA_011.csv\")"
   ]
  },
  {
   "cell_type": "code",
   "execution_count": 32,
   "metadata": {},
   "outputs": [],
   "source": [
    "test_df.to_csv(\"results_SARIMA_010_011.csv\")"
   ]
  },
  {
   "cell_type": "code",
   "execution_count": null,
   "metadata": {},
   "outputs": [],
   "source": []
  }
 ],
 "metadata": {
  "kernelspec": {
   "display_name": "Python 3 (ipykernel)",
   "language": "python",
   "name": "python3"
  },
  "language_info": {
   "codemirror_mode": {
    "name": "ipython",
    "version": 3
   },
   "file_extension": ".py",
   "mimetype": "text/x-python",
   "name": "python",
   "nbconvert_exporter": "python",
   "pygments_lexer": "ipython3",
   "version": "3.11.5"
  }
 },
 "nbformat": 4,
 "nbformat_minor": 4
}
